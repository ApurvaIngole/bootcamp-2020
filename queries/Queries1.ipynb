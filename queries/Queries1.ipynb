{
    "metadata": {
        "kernelspec": {
            "name": "SQL",
            "display_name": "SQL",
            "language": "sql"
        },
        "language_info": {
            "name": "sql",
            "version": ""
        }
    },
    "nbformat_minor": 2,
    "nbformat": 4,
    "cells": [
        {
            "cell_type": "markdown",
            "source": [
                "## SQL Queries - Simple"
            ],
            "metadata": {
                "azdata_cell_guid": "09a36ca7-66a1-4325-affe-216a349037f1"
            }
        },
        {
            "cell_type": "markdown",
            "source": [
                "### Tasks"
            ],
            "metadata": {
                "azdata_cell_guid": "2e6b9a1d-8f35-42c7-9326-d83f798d4f1e"
            }
        },
        {
            "cell_type": "markdown",
            "source": [
                "Show the first name and the email address of customer with CompanyName 'Bike World'."
            ],
            "metadata": {
                "azdata_cell_guid": "1d903b74-bcea-4f46-94f0-554a4d906eef"
            }
        },
        {
            "cell_type": "code",
            "source": [
                "-- sql here"
            ],
            "metadata": {
                "azdata_cell_guid": "8d715f71-aecb-4c4d-bb52-aaf7e51e5940"
            },
            "outputs": [],
            "execution_count": null
        },
        {
            "cell_type": "markdown",
            "source": [
                "Show the CompanyName for all customers with an address in City 'Dallas'."
            ],
            "metadata": {
                "azdata_cell_guid": "4a42302e-1c87-4c77-856d-3c89d3f45e7b"
            }
        },
        {
            "cell_type": "code",
            "source": [
                "-- sql here"
            ],
            "metadata": {
                "azdata_cell_guid": "745d7616-1883-4df0-927f-f4b252467ce1"
            },
            "outputs": [],
            "execution_count": null
        },
        {
            "cell_type": "markdown",
            "source": [
                "How many items with ListPrice more than $1000 have been sold?"
            ],
            "metadata": {
                "azdata_cell_guid": "c12107f9-c16b-4e3d-b337-cdcd3c6f5360"
            }
        },
        {
            "cell_type": "code",
            "source": [
                "-- sql here"
            ],
            "metadata": {
                "azdata_cell_guid": "850491fb-44d2-43da-ae41-71205a180e96"
            },
            "outputs": [],
            "execution_count": null
        },
        {
            "cell_type": "markdown",
            "source": [
                "Give the CompanyName of those customers with orders over $100000. Include the subtotal plus tax plus freight."
            ],
            "metadata": {
                "azdata_cell_guid": "23060d27-6e70-4d8e-930b-5bc516f00cbf"
            }
        },
        {
            "cell_type": "code",
            "source": [
                "-- sql here"
            ],
            "metadata": {
                "azdata_cell_guid": "36d1ce1b-fb2b-4405-ad68-3fd4f96bd094"
            },
            "outputs": [],
            "execution_count": null
        },
        {
            "cell_type": "markdown",
            "source": [
                "Find the number of left racing socks ('Racing Socks, L') ordered by CompanyName 'Riding Cycles'."
            ],
            "metadata": {
                "azdata_cell_guid": "17a29399-e6b4-4505-88a8-7429456f1e71"
            }
        },
        {
            "cell_type": "code",
            "source": [
                "-- sql here"
            ],
            "metadata": {
                "azdata_cell_guid": "2af3ed3e-3555-4982-a1dc-b5e1f6671d29"
            },
            "outputs": [],
            "execution_count": null
        },
        {
            "cell_type": "markdown",
            "source": [
                "### Notes & Conclusion"
            ],
            "metadata": {
                "azdata_cell_guid": "439a441d-ead2-431f-94ef-80a4f9c9bfb2"
            }
        },
        {
            "cell_type": "markdown",
            "source": [
                "Notes are here."
            ],
            "metadata": {
                "azdata_cell_guid": "19198e06-faef-43c7-9e7a-345f3dbc92d0"
            }
        }
    ]
}